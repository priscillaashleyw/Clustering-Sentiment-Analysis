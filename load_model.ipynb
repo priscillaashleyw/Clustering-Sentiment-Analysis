{
 "cells": [
  {
   "cell_type": "code",
   "execution_count": 13,
   "id": "82d7508e",
   "metadata": {},
   "outputs": [],
   "source": [
    "import numpy as np\n",
    "import pandas as pd\n",
    "from joblib import load\n",
    "from sklearn.preprocessing import LabelEncoder\n",
    "from sklearn.metrics import confusion_matrix\n",
    "from scipy.optimize import linear_sum_assignment"
   ]
  },
  {
   "cell_type": "code",
   "execution_count": 20,
   "id": "11fe4958",
   "metadata": {},
   "outputs": [
    {
     "name": "stdout",
     "output_type": "stream",
     "text": [
      "Loaded 14639 rows | classes: [np.str_('negative'), np.str_('neutral'), np.str_('positive')]\n",
      "Embeddings shape: (14639, 200) from: model/X_glove_full.npy\n",
      "Loaded trained pipeline: model/glove_pipeline.pkl\n",
      "Available attributes: ['X_use_', '__class__', '__delattr__', '__dict__', '__dir__', '__doc__', '__eq__', '__format__', '__ge__', '__getattribute__', '__getstate__', '__gt__', '__hash__', '__init__', '__init_subclass__', '__le__', '__lt__', '__module__', '__ne__', '__new__', '__reduce__', '__reduce_ex__', '__repr__', '__setattr__', '__sizeof__', '__str__', '__subclasshook__', '__weakref__', 'clusterer_', 'labels_', 'reducer_', 'score_']\n",
      "Using stored cluster labels from trained pipeline.\n",
      "\n",
      "Hungarian Accuracy: 0.653\n",
      "Optimal cluster → label mapping: {2: np.str_('negative'), 0: np.str_('neutral'), 1: np.str_('positive')}\n",
      "Confusion matrix:\n",
      " [[  62    1 9115]\n",
      " [ 186   64 2849]\n",
      " [  95  257 2010]]\n"
     ]
    }
   ],
   "source": [
    "# =====================================\n",
    "# Verify clustering results (Hungarian Accuracy)\n",
    "# =====================================\n",
    "\n",
    "# pick the dataset and model you want to test\n",
    "CSV_PATH  = \"cleaned_tweets.csv\"\n",
    "X_PATH    = \"model/X_glove_full.npy\"\n",
    "PKL_PATH  = \"model/glove_pipeline.pkl\"  # change for sbert/bertweet/cardiff etc.\n",
    "TEXT_COL  = \"text\"\n",
    "LABEL_COL = \"airline_sentiment\"\n",
    "# --------------------------------------------\n",
    "\n",
    "# Load dataset and encode labels\n",
    "df = pd.read_csv(CSV_PATH)\n",
    "y_true_raw = df[LABEL_COL].astype(str).tolist()\n",
    "le = LabelEncoder()\n",
    "y_true = le.fit_transform(y_true_raw)\n",
    "print(f\"Loaded {len(df)} rows | classes: {list(le.classes_)}\")\n",
    "\n",
    "# Load embeddings (to feed into pipeline)\n",
    "X = np.load(X_PATH)\n",
    "print(\"Embeddings shape:\", X.shape, \"from:\", X_PATH)\n",
    "\n",
    "# Load trained pipeline (fitted reducer + clusterer)\n",
    "pipe = load(PKL_PATH)\n",
    "print(f\"Loaded trained pipeline: {PKL_PATH}\")\n",
    "print(\"Available attributes:\", [a for a in dir(pipe) if a.endswith('_')])\n",
    "\n",
    "# Use stored cluster labels from the trained model\n",
    "y_pred = pipe.labels_\n",
    "print(\"Using stored cluster labels from trained pipeline.\")\n",
    "\n",
    "# Compute Hungarian Accuracy\n",
    "def hungarian_accuracy(y_true_int, y_pred_int):\n",
    "    cm = confusion_matrix(y_true_int, y_pred_int)\n",
    "    r, c = linear_sum_assignment(cm.max() - cm)\n",
    "    matched = cm[r, c].sum()\n",
    "    return matched / cm.sum(), cm, r, c\n",
    "\n",
    "ha, cm, r, c = hungarian_accuracy(y_true, y_pred)\n",
    "mapping = {int(col): le.classes_[int(row)] for row, col in zip(r, c)}\n",
    "\n",
    "# Display results\n",
    "print(f\"\\nHungarian Accuracy: {ha:.3f}\")\n",
    "print(\"Optimal cluster → label mapping:\", mapping)\n",
    "print(\"Confusion matrix:\\n\", cm)"
   ]
  }
 ],
 "metadata": {
  "kernelspec": {
   "display_name": "venv",
   "language": "python",
   "name": "python3"
  },
  "language_info": {
   "codemirror_mode": {
    "name": "ipython",
    "version": 3
   },
   "file_extension": ".py",
   "mimetype": "text/x-python",
   "name": "python",
   "nbconvert_exporter": "python",
   "pygments_lexer": "ipython3",
   "version": "3.12.1"
  }
 },
 "nbformat": 4,
 "nbformat_minor": 5
}
